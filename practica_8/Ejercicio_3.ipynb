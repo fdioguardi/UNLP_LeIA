{
  "nbformat": 4,
  "nbformat_minor": 0,
  "metadata": {
    "colab": {
      "name": "Ejercicio 3.ipynb",
      "provenance": [],
      "collapsed_sections": []
    },
    "kernelspec": {
      "name": "python3",
      "display_name": "Python 3"
    },
    "language_info": {
      "name": "python"
    }
  },
  "cells": [
    {
      "cell_type": "markdown",
      "source": [
        "# Ejercicio 3 - Clasificación de dígitos\n",
        "\n",
        "Usarémos la información de la base de datos `mnist`."
      ],
      "metadata": {
        "id": "36g2ZhFQQtcr"
      }
    },
    {
      "cell_type": "markdown",
      "source": [
        "## Imports"
      ],
      "metadata": {
        "id": "Xufpdm6YVaz6"
      }
    },
    {
      "cell_type": "code",
      "source": [
        "import numpy as np\n",
        "import matplotlib.pyplot as plt\n",
        "from sklearn.model_selection import train_test_split\n",
        "from tensorflow.keras.datasets import mnist\n",
        "from tensorflow.keras.models import Sequential\n",
        "from tensorflow.keras.layers import Dense, Flatten"
      ],
      "metadata": {
        "id": "5FvZ-wQsVc6d"
      },
      "execution_count": 8,
      "outputs": []
    },
    {
      "cell_type": "markdown",
      "source": [
        "## Paso 1: Obtención de datos\n",
        "\n",
        "Cargamos los datos en un `dataframe` de pandas."
      ],
      "metadata": {
        "id": "lz7eX4UdQ8FQ"
      }
    },
    {
      "cell_type": "code",
      "source": [
        "data = mnist.load_data()"
      ],
      "metadata": {
        "id": "0rbs3RvbSjXU"
      },
      "execution_count": 9,
      "outputs": []
    },
    {
      "cell_type": "markdown",
      "source": [
        "## Paso 2: Preprocesamiento de datos\n",
        "\n",
        "Separamos los datos en:\n",
        "\n",
        "- **x_train**: entrada, conjunto de training.\n",
        "- **y_train**: salida, conjunto de training.\n",
        "- **x_test**: entrada, conjunto de testing.\n",
        "- **x_test**: salida, conjunto de testing."
      ],
      "metadata": {
        "id": "XkLZ9E4ro3ft"
      }
    },
    {
      "cell_type": "code",
      "source": [
        "(x_train, y_train), (x_test, y_test) = data\n",
        "\n",
        "# Normalización\n",
        "x_train = x_train / 255.0\n",
        "x_test = x_test / 255.0"
      ],
      "metadata": {
        "id": "Xwtzn0YfmVML"
      },
      "execution_count": 10,
      "outputs": []
    },
    {
      "cell_type": "markdown",
      "source": [
        "## Paso 3: Creación del modelo\n"
      ],
      "metadata": {
        "id": "yRTEcdHhpByf"
      }
    },
    {
      "cell_type": "code",
      "metadata": {
        "id": "vz-ucr5wF6Yg",
        "colab": {
          "base_uri": "https://localhost:8080/"
        },
        "outputId": "9af54dff-d004-42f9-a517-dcf1745eca06"
      },
      "source": [
        "model = Sequential()\n",
        "\n",
        "model.add(Flatten(input_shape=(28, 28)))\n",
        "model.add(Dense(15, activation=\"relu\"))\n",
        "model.add(Dense(10, activation=\"softmax\"))\n",
        "\n",
        "model.compile(loss=\"sparse_categorical_crossentropy\", optimizer=\"sgd\", metrics=[\"accuracy\"])\n",
        "model.summary()"
      ],
      "execution_count": 11,
      "outputs": [
        {
          "output_type": "stream",
          "name": "stdout",
          "text": [
            "Model: \"sequential_2\"\n",
            "_________________________________________________________________\n",
            " Layer (type)                Output Shape              Param #   \n",
            "=================================================================\n",
            " flatten_2 (Flatten)         (None, 784)               0         \n",
            "                                                                 \n",
            " dense_5 (Dense)             (None, 15)                11775     \n",
            "                                                                 \n",
            " dense_6 (Dense)             (None, 10)                160       \n",
            "                                                                 \n",
            "=================================================================\n",
            "Total params: 11,935\n",
            "Trainable params: 11,935\n",
            "Non-trainable params: 0\n",
            "_________________________________________________________________\n"
          ]
        }
      ]
    },
    {
      "cell_type": "code",
      "metadata": {
        "colab": {
          "base_uri": "https://localhost:8080/"
        },
        "id": "TnctulZwoxG-",
        "outputId": "2fae7f7d-b486-475d-95d8-2dff03bda036"
      },
      "source": [
        "model2 = Sequential()\n",
        "\n",
        "model2.add(Flatten(input_shape=(28, 28)))\n",
        "model2.add(Dense(30, activation=\"relu\"))\n",
        "model2.add(Dense(15, activation=\"relu\"))\n",
        "model2.add(Dense(10, activation=\"softmax\"))\n",
        "\n",
        "model2.compile(loss=\"sparse_categorical_crossentropy\", optimizer=\"sgd\", metrics=[\"accuracy\"])\n",
        "model2.summary()"
      ],
      "execution_count": 7,
      "outputs": [
        {
          "output_type": "stream",
          "name": "stdout",
          "text": [
            "Model: \"sequential_1\"\n",
            "_________________________________________________________________\n",
            " Layer (type)                Output Shape              Param #   \n",
            "=================================================================\n",
            " flatten_1 (Flatten)         (None, 784)               0         \n",
            "                                                                 \n",
            " dense_2 (Dense)             (None, 30)                23550     \n",
            "                                                                 \n",
            " dense_3 (Dense)             (None, 15)                465       \n",
            "                                                                 \n",
            " dense_4 (Dense)             (None, 10)                160       \n",
            "                                                                 \n",
            "=================================================================\n",
            "Total params: 24,175\n",
            "Trainable params: 24,175\n",
            "Non-trainable params: 0\n",
            "_________________________________________________________________\n"
          ]
        }
      ]
    },
    {
      "cell_type": "code",
      "metadata": {
        "colab": {
          "base_uri": "https://localhost:8080/"
        },
        "id": "0crzk8Jbo0jb",
        "outputId": "e8eb39fa-8a90-4186-8fa9-aef65da85390"
      },
      "source": [
        "model3 = Sequential()\n",
        "\n",
        "model3.add(Flatten(input_shape=(28, 28)))\n",
        "model3.add(Dense(128, activation=\"relu\"))\n",
        "model3.add(Dense(10, activation=\"softmax\"))\n",
        "\n",
        "model3.compile(loss=\"sparse_categorical_crossentropy\", optimizer=\"adam\", metrics=[\"accuracy\"])\n",
        "model3.summary()"
      ],
      "execution_count": 4,
      "outputs": [
        {
          "output_type": "stream",
          "name": "stdout",
          "text": [
            "Model: \"sequential\"\n",
            "_________________________________________________________________\n",
            " Layer (type)                Output Shape              Param #   \n",
            "=================================================================\n",
            " flatten (Flatten)           (None, 784)               0         \n",
            "                                                                 \n",
            " dense (Dense)               (None, 128)               100480    \n",
            "                                                                 \n",
            " dense_1 (Dense)             (None, 10)                1290      \n",
            "                                                                 \n",
            "=================================================================\n",
            "Total params: 101,770\n",
            "Trainable params: 101,770\n",
            "Non-trainable params: 0\n",
            "_________________________________________________________________\n"
          ]
        }
      ]
    },
    {
      "cell_type": "markdown",
      "source": [
        "## Paso 4: Entrenamiento del modelo"
      ],
      "metadata": {
        "id": "gpUHszjhM4Uw"
      }
    },
    {
      "cell_type": "code",
      "source": [
        "model.fit(x_train, y_train, verbose=2, batch_size=1024, epochs=50)"
      ],
      "metadata": {
        "id": "aEdXh2-5M9ND",
        "colab": {
          "base_uri": "https://localhost:8080/"
        },
        "outputId": "7748516a-333f-4c3c-c7ff-c3d55047786e"
      },
      "execution_count": 12,
      "outputs": [
        {
          "output_type": "stream",
          "name": "stdout",
          "text": [
            "Epoch 1/50\n",
            "59/59 - 1s - loss: 2.1658 - accuracy: 0.2215 - 699ms/epoch - 12ms/step\n",
            "Epoch 2/50\n",
            "59/59 - 0s - loss: 1.8657 - accuracy: 0.4299 - 394ms/epoch - 7ms/step\n",
            "Epoch 3/50\n",
            "59/59 - 0s - loss: 1.5998 - accuracy: 0.5876 - 349ms/epoch - 6ms/step\n",
            "Epoch 4/50\n",
            "59/59 - 0s - loss: 1.3761 - accuracy: 0.6696 - 369ms/epoch - 6ms/step\n",
            "Epoch 5/50\n",
            "59/59 - 0s - loss: 1.1993 - accuracy: 0.7145 - 405ms/epoch - 7ms/step\n",
            "Epoch 6/50\n",
            "59/59 - 0s - loss: 1.0656 - accuracy: 0.7446 - 375ms/epoch - 6ms/step\n",
            "Epoch 7/50\n",
            "59/59 - 0s - loss: 0.9637 - accuracy: 0.7675 - 367ms/epoch - 6ms/step\n",
            "Epoch 8/50\n",
            "59/59 - 0s - loss: 0.8841 - accuracy: 0.7852 - 362ms/epoch - 6ms/step\n",
            "Epoch 9/50\n",
            "59/59 - 0s - loss: 0.8202 - accuracy: 0.8002 - 365ms/epoch - 6ms/step\n",
            "Epoch 10/50\n",
            "59/59 - 0s - loss: 0.7680 - accuracy: 0.8118 - 366ms/epoch - 6ms/step\n",
            "Epoch 11/50\n",
            "59/59 - 0s - loss: 0.7243 - accuracy: 0.8221 - 362ms/epoch - 6ms/step\n",
            "Epoch 12/50\n",
            "59/59 - 0s - loss: 0.6873 - accuracy: 0.8306 - 353ms/epoch - 6ms/step\n",
            "Epoch 13/50\n",
            "59/59 - 0s - loss: 0.6555 - accuracy: 0.8377 - 366ms/epoch - 6ms/step\n",
            "Epoch 14/50\n",
            "59/59 - 0s - loss: 0.6280 - accuracy: 0.8437 - 376ms/epoch - 6ms/step\n",
            "Epoch 15/50\n",
            "59/59 - 0s - loss: 0.6038 - accuracy: 0.8487 - 356ms/epoch - 6ms/step\n",
            "Epoch 16/50\n",
            "59/59 - 0s - loss: 0.5826 - accuracy: 0.8528 - 358ms/epoch - 6ms/step\n",
            "Epoch 17/50\n",
            "59/59 - 0s - loss: 0.5638 - accuracy: 0.8563 - 352ms/epoch - 6ms/step\n",
            "Epoch 18/50\n",
            "59/59 - 0s - loss: 0.5470 - accuracy: 0.8601 - 361ms/epoch - 6ms/step\n",
            "Epoch 19/50\n",
            "59/59 - 0s - loss: 0.5319 - accuracy: 0.8630 - 354ms/epoch - 6ms/step\n",
            "Epoch 20/50\n",
            "59/59 - 0s - loss: 0.5184 - accuracy: 0.8660 - 354ms/epoch - 6ms/step\n",
            "Epoch 21/50\n",
            "59/59 - 0s - loss: 0.5061 - accuracy: 0.8684 - 364ms/epoch - 6ms/step\n",
            "Epoch 22/50\n",
            "59/59 - 0s - loss: 0.4950 - accuracy: 0.8707 - 347ms/epoch - 6ms/step\n",
            "Epoch 23/50\n",
            "59/59 - 0s - loss: 0.4848 - accuracy: 0.8728 - 353ms/epoch - 6ms/step\n",
            "Epoch 24/50\n",
            "59/59 - 0s - loss: 0.4755 - accuracy: 0.8745 - 372ms/epoch - 6ms/step\n",
            "Epoch 25/50\n",
            "59/59 - 0s - loss: 0.4670 - accuracy: 0.8763 - 345ms/epoch - 6ms/step\n",
            "Epoch 26/50\n",
            "59/59 - 0s - loss: 0.4591 - accuracy: 0.8779 - 362ms/epoch - 6ms/step\n",
            "Epoch 27/50\n",
            "59/59 - 0s - loss: 0.4518 - accuracy: 0.8792 - 374ms/epoch - 6ms/step\n",
            "Epoch 28/50\n",
            "59/59 - 0s - loss: 0.4451 - accuracy: 0.8808 - 332ms/epoch - 6ms/step\n",
            "Epoch 29/50\n",
            "59/59 - 0s - loss: 0.4388 - accuracy: 0.8822 - 335ms/epoch - 6ms/step\n",
            "Epoch 30/50\n",
            "59/59 - 0s - loss: 0.4330 - accuracy: 0.8835 - 366ms/epoch - 6ms/step\n",
            "Epoch 31/50\n",
            "59/59 - 0s - loss: 0.4275 - accuracy: 0.8848 - 378ms/epoch - 6ms/step\n",
            "Epoch 32/50\n",
            "59/59 - 0s - loss: 0.4224 - accuracy: 0.8857 - 421ms/epoch - 7ms/step\n",
            "Epoch 33/50\n",
            "59/59 - 0s - loss: 0.4176 - accuracy: 0.8867 - 386ms/epoch - 7ms/step\n",
            "Epoch 34/50\n",
            "59/59 - 0s - loss: 0.4130 - accuracy: 0.8881 - 365ms/epoch - 6ms/step\n",
            "Epoch 35/50\n",
            "59/59 - 0s - loss: 0.4088 - accuracy: 0.8888 - 435ms/epoch - 7ms/step\n",
            "Epoch 36/50\n",
            "59/59 - 0s - loss: 0.4048 - accuracy: 0.8897 - 454ms/epoch - 8ms/step\n",
            "Epoch 37/50\n",
            "59/59 - 1s - loss: 0.4010 - accuracy: 0.8905 - 522ms/epoch - 9ms/step\n",
            "Epoch 38/50\n",
            "59/59 - 0s - loss: 0.3973 - accuracy: 0.8915 - 428ms/epoch - 7ms/step\n",
            "Epoch 39/50\n",
            "59/59 - 1s - loss: 0.3939 - accuracy: 0.8921 - 575ms/epoch - 10ms/step\n",
            "Epoch 40/50\n",
            "59/59 - 1s - loss: 0.3907 - accuracy: 0.8928 - 546ms/epoch - 9ms/step\n",
            "Epoch 41/50\n",
            "59/59 - 1s - loss: 0.3875 - accuracy: 0.8932 - 590ms/epoch - 10ms/step\n",
            "Epoch 42/50\n",
            "59/59 - 1s - loss: 0.3845 - accuracy: 0.8939 - 656ms/epoch - 11ms/step\n",
            "Epoch 43/50\n",
            "59/59 - 1s - loss: 0.3817 - accuracy: 0.8945 - 552ms/epoch - 9ms/step\n",
            "Epoch 44/50\n",
            "59/59 - 1s - loss: 0.3790 - accuracy: 0.8950 - 666ms/epoch - 11ms/step\n",
            "Epoch 45/50\n",
            "59/59 - 1s - loss: 0.3764 - accuracy: 0.8956 - 629ms/epoch - 11ms/step\n",
            "Epoch 46/50\n",
            "59/59 - 1s - loss: 0.3739 - accuracy: 0.8962 - 578ms/epoch - 10ms/step\n",
            "Epoch 47/50\n",
            "59/59 - 1s - loss: 0.3715 - accuracy: 0.8967 - 539ms/epoch - 9ms/step\n",
            "Epoch 48/50\n",
            "59/59 - 1s - loss: 0.3692 - accuracy: 0.8972 - 600ms/epoch - 10ms/step\n",
            "Epoch 49/50\n",
            "59/59 - 1s - loss: 0.3670 - accuracy: 0.8980 - 534ms/epoch - 9ms/step\n",
            "Epoch 50/50\n",
            "59/59 - 1s - loss: 0.3649 - accuracy: 0.8984 - 567ms/epoch - 10ms/step\n"
          ]
        },
        {
          "output_type": "execute_result",
          "data": {
            "text/plain": [
              "<keras.callbacks.History at 0x7f03752249d0>"
            ]
          },
          "metadata": {},
          "execution_count": 12
        }
      ]
    },
    {
      "cell_type": "code",
      "source": [
        "model2.fit(x_train, y_train, verbose=2, batch_size=512, epochs=200)"
      ],
      "metadata": {
        "id": "R2q_2gVKqbX7"
      },
      "execution_count": null,
      "outputs": []
    },
    {
      "cell_type": "code",
      "source": [
        "model3.fit(x_train, y_train, verbose=2, epochs=6, batch_size=32)"
      ],
      "metadata": {
        "colab": {
          "base_uri": "https://localhost:8080/"
        },
        "id": "2L7GMaVuqcQF",
        "outputId": "2fc6a4a1-2d0c-471b-c591-3f32c3007ce8"
      },
      "execution_count": 5,
      "outputs": [
        {
          "output_type": "stream",
          "name": "stdout",
          "text": [
            "Epoch 1/6\n",
            "1875/1875 - 9s - loss: 0.2605 - accuracy: 0.9256 - 9s/epoch - 5ms/step\n",
            "Epoch 2/6\n",
            "1875/1875 - 7s - loss: 0.1154 - accuracy: 0.9657 - 7s/epoch - 4ms/step\n",
            "Epoch 3/6\n",
            "1875/1875 - 8s - loss: 0.0780 - accuracy: 0.9762 - 8s/epoch - 5ms/step\n",
            "Epoch 4/6\n",
            "1875/1875 - 7s - loss: 0.0586 - accuracy: 0.9818 - 7s/epoch - 4ms/step\n",
            "Epoch 5/6\n",
            "1875/1875 - 7s - loss: 0.0448 - accuracy: 0.9865 - 7s/epoch - 4ms/step\n",
            "Epoch 6/6\n",
            "1875/1875 - 7s - loss: 0.0357 - accuracy: 0.9890 - 7s/epoch - 4ms/step\n"
          ]
        },
        {
          "output_type": "execute_result",
          "data": {
            "text/plain": [
              "<keras.callbacks.History at 0x7f03753b20d0>"
            ]
          },
          "metadata": {},
          "execution_count": 5
        }
      ]
    },
    {
      "cell_type": "markdown",
      "source": [
        "## Paso 5: Evaluación del modelo\n",
        "\n",
        "Usamos el conjunto de test para saber que tan bien funciona el modelo creado."
      ],
      "metadata": {
        "id": "yL6lOQFENF4Q"
      }
    },
    {
      "cell_type": "code",
      "source": [
        "model.evaluate(x_test, y_test)"
      ],
      "metadata": {
        "colab": {
          "base_uri": "https://localhost:8080/"
        },
        "id": "NXUULrnMNj9v",
        "outputId": "98d3171b-a588-4b83-fe6f-48d6d9da2bb2"
      },
      "execution_count": 13,
      "outputs": [
        {
          "output_type": "stream",
          "name": "stdout",
          "text": [
            "313/313 [==============================] - 1s 1ms/step - loss: 0.3461 - accuracy: 0.9038\n"
          ]
        },
        {
          "output_type": "execute_result",
          "data": {
            "text/plain": [
              "[0.34611666202545166, 0.9038000106811523]"
            ]
          },
          "metadata": {},
          "execution_count": 13
        }
      ]
    },
    {
      "cell_type": "code",
      "source": [
        "model2.evaluate(x_test, y_test)"
      ],
      "metadata": {
        "id": "Mu2wUM3Xqp7k"
      },
      "execution_count": null,
      "outputs": []
    },
    {
      "cell_type": "code",
      "source": [
        "model3.evaluate(x_test, y_test)"
      ],
      "metadata": {
        "colab": {
          "base_uri": "https://localhost:8080/"
        },
        "outputId": "89d0617f-0235-4eab-d5f8-7d6195e6add7",
        "id": "xAcBHhDhqpGb"
      },
      "execution_count": 6,
      "outputs": [
        {
          "output_type": "stream",
          "name": "stdout",
          "text": [
            "313/313 [==============================] - 1s 2ms/step - loss: 0.0737 - accuracy: 0.9772\n"
          ]
        },
        {
          "output_type": "execute_result",
          "data": {
            "text/plain": [
              "[0.07372896373271942, 0.9771999716758728]"
            ]
          },
          "metadata": {},
          "execution_count": 6
        }
      ]
    },
    {
      "cell_type": "markdown",
      "source": [
        "## Paso 6: Predicción de nuevos datos\n",
        "\n",
        "Usamos la entrada del conjunto de testeo (que no fue usado para entrenar el modelo) y obtenemos las predicciones outputeadas.\n",
        "\n",
        "Es una versión manual del paso anterior."
      ],
      "metadata": {
        "id": "qVR-iQ8YN0W7"
      }
    },
    {
      "cell_type": "code",
      "metadata": {
        "colab": {
          "base_uri": "https://localhost:8080/",
          "height": 282
        },
        "id": "feHExdO5iNjS",
        "outputId": "9f2c757e-6c19-49a5-ad3a-e2972d6b3e38"
      },
      "source": [
        "def draw(model, i_model):\n",
        "    y_pred = model.predict(x_test)\n",
        "    y_pred = np.argmax(y_pred, axis=-1)\n",
        "    images = np.random.randint(0, 10000, 9)\n",
        "    print(f\"Modelo {i_model}\")\n",
        "    for i in range(9):\n",
        "        image = images[i]\n",
        "        original_image = x_test[image, :]\n",
        "        original_tag = y_test[image]\n",
        "        predicted_tag = y_pred[image]\n",
        "    \n",
        "        plt.subplot(3, 3, i+1)\n",
        "        plt.imshow(original_image, cmap='gray')\n",
        "        plt.axis('off')\n",
        "        plt.title('\"{}\" clasificado \"{}\"'.format(original_tag, predicted_tag))\n",
        "\n",
        "draw(model, 1)"
      ],
      "execution_count": 14,
      "outputs": [
        {
          "output_type": "stream",
          "name": "stdout",
          "text": [
            "Modelo 1\n"
          ]
        },
        {
          "output_type": "display_data",
          "data": {
            "image/png": "[encoded data removed]",
            "text/plain": [
              "<Figure size 432x288 with 9 Axes>"
            ]
          },
          "metadata": {
            "needs_background": "light"
          }
        }
      ]
    }
  ]
}